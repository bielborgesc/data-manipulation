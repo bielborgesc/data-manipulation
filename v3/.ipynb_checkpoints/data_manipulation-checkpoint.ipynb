{
 "cells": [
  {
   "cell_type": "markdown",
   "id": "0c14d72a",
   "metadata": {},
   "source": [
    "# Data Manipulation"
   ]
  },
  {
   "cell_type": "markdown",
   "id": "22e546e9",
   "metadata": {},
   "source": [
    "## Manipulating data from a dataset about police data"
   ]
  },
  {
   "cell_type": "markdown",
   "id": "64fab6e2",
   "metadata": {},
   "source": [
    "Generic Functions and Import Libs"
   ]
  },
  {
   "cell_type": "code",
   "execution_count": 21,
   "id": "1b345510",
   "metadata": {},
   "outputs": [],
   "source": [
    "#Imports\n",
    "from math import ceil\n",
    "import operator\n",
    "import pandas as pd"
   ]
  },
  {
   "cell_type": "code",
   "execution_count": 11,
   "id": "b048a970",
   "metadata": {},
   "outputs": [],
   "source": [
    "#Main classes\n",
    "class Person:  # Person class, this is the main class\n",
    "    def __init__(self):\n",
    "        self.name: ''\n",
    "        self.date: ''\n",
    "        self.mannerOfDeath: ''\n",
    "        self.weapon: ''\n",
    "        self.age: ''\n",
    "        self.gender: ''\n",
    "        self.race: ''\n",
    "        self.city: ''\n",
    "        self.state: ''\n",
    "        self.signsOfMentalIllness: ''\n",
    "        self.threatLevel: ''\n",
    "        self.flee: ''\n",
    "        self.bodyCamera: ''\n",
    "        self.armsCategory: ''\n",
    "\n",
    "class Death:  # Class for a list of the top 10 ways people were killed\n",
    "    def __init__(self):\n",
    "        self.unknown = ''\n",
    "        self.form = ''\n",
    "        self.male = 0\n",
    "        self.female = 0"
   ]
  },
  {
   "cell_type": "code",
   "execution_count": 12,
   "id": "8574caa2",
   "metadata": {},
   "outputs": [],
   "source": [
    "#Messages functions\n",
    "def showMessage(msg):  # function to display common message\n",
    "    print(\"====================\", \"\\n\", msg, \"\\n\" \"====================\" \"\\n\")\n",
    "\n",
    "\n",
    "def showMessageError(msg):  # function to display error message\n",
    "    print(\"*********************\", \"\\n\", msg, \"\\n\" \"*********************\" \"\\n\")"
   ]
  },
  {
   "cell_type": "code",
   "execution_count": 13,
   "id": "84296740",
   "metadata": {},
   "outputs": [],
   "source": [
    "#Menu\n",
    "def chooseMenuOption():  # The Menu\n",
    "    showMessage(\"Menu\")\n",
    "    print(\n",
    "        '1 - Load data of file\\n'\n",
    "        '2 - Show data loaded\\n'\n",
    "        '3 - List with the top 10 forms of death and their number\\n'\n",
    "        '4 - People murdered by firearms in FL\\n'\n",
    "        '5 - Average of Asian Men and Women\\n'\n",
    "        '6 - Number of people by race\\n'\n",
    "        '7 - Similar data between 2 victims\\n'\n",
    "        '8 - Show the month with the most deaths\\n'\n",
    "        '9 - See percentage murderers are recorded per year\\n'\n",
    "        '10 - Most used weapon per quarter\\n'\n",
    "        '11 - Show percentage of white victims who fled\\n'\n",
    "        '12 - Show in ascending order the number of victims in each state\\n'\n",
    "        '13 - Show Victims for each year in ascending order\\n'\n",
    "        '14 - Check if there was any date of similar violence between the two files\\n'\n",
    "        '0 - Exit'\n",
    "    )\n",
    "    return input('Opção: ')"
   ]
  },
  {
   "cell_type": "markdown",
   "id": "c8bbe597",
   "metadata": {},
   "source": [
    "Load data of file"
   ]
  },
  {
   "cell_type": "code",
   "execution_count": 24,
   "id": "a91fb80e",
   "metadata": {},
   "outputs": [
    {
     "name": "stdout",
     "output_type": "stream",
     "text": [
      "        id                name        date   manner_of_death       armed  \\\n",
      "0        3          Tim Elliot  02/01/2015              shot         gun   \n",
      "1        4    Lewis Lee Lembke  02/01/2015              shot         gun   \n",
      "2        5  John Paul Quintero  03/01/2015  shot and Tasered     unarmed   \n",
      "3        8     Matthew Hoffman  04/01/2015              shot  toy weapon   \n",
      "4        9   Michael Rodriguez  04/01/2015              shot    nail gun   \n",
      "...    ...                 ...         ...               ...         ...   \n",
      "4890  5916     Rayshard Brooks  12/06/2020              shot       Taser   \n",
      "4891  5925      Caine Van Pelt  12/06/2020              shot         gun   \n",
      "4892  5918        Hannah Fizer  13/06/2020              shot     unarmed   \n",
      "4893  5921      William Slyter  13/06/2020              shot         gun   \n",
      "4894  5924      Nicholas Hirsh  15/06/2020              shot         gun   \n",
      "\n",
      "       age gender      race           city state  signs_of_mental_illness  \\\n",
      "0     53.0      M     Asian        Shelton    WA                     True   \n",
      "1     47.0      M     White          Aloha    OR                    False   \n",
      "2     23.0      M  Hispanic        Wichita    KS                    False   \n",
      "3     32.0      M     White  San Francisco    CA                     True   \n",
      "4     39.0      M  Hispanic          Evans    CO                    False   \n",
      "...    ...    ...       ...            ...   ...                      ...   \n",
      "4890  27.0      M     Black        Atlanta    GA                    False   \n",
      "4891  23.0      M     Black    Crown Point    IN                    False   \n",
      "4892  25.0      F     White        Sedalia    MO                    False   \n",
      "4893  22.0      M     White    Kansas City    MO                    False   \n",
      "4894  31.0      M     White       Lawrence    KS                    False   \n",
      "\n",
      "     threat_level         flee  body_camera          arms_category  \n",
      "0          attack  Not fleeing        False                   Guns  \n",
      "1          attack  Not fleeing        False                   Guns  \n",
      "2           other  Not fleeing        False                Unarmed  \n",
      "3          attack  Not fleeing        False  Other unusual objects  \n",
      "4          attack  Not fleeing        False       Piercing objects  \n",
      "...           ...          ...          ...                    ...  \n",
      "4890       attack         Foot         True     Electrical devices  \n",
      "4891       attack          Car        False                   Guns  \n",
      "4892        other  Not fleeing        False                Unarmed  \n",
      "4893        other        Other        False                   Guns  \n",
      "4894       attack          Car        False                   Guns  \n",
      "\n",
      "[4895 rows x 15 columns]\n"
     ]
    }
   ],
   "source": [
    "# Op 1 - Load data of file\n",
    "def loadFile(name):\n",
    "    table = pd.read_csv(name, sep = ';')\n",
    "    print(table)\n",
    "#     try:\n",
    "#         firstLine = True\n",
    "#         dataBase = []\n",
    "#         dataBaseTittle = []\n",
    "#         dataForRetur = []\n",
    "#         file = open(name, 'r')\n",
    "#         for line in file:\n",
    "#             data = line.split(';')\n",
    "#             if not firstLine:\n",
    "#                 p = Person()\n",
    "#                 p.name = data[1]\n",
    "#                 p.date = data[2]\n",
    "#                 p.mannerOfDeath = data[3]\n",
    "#                 p.weapon = data[4]\n",
    "#                 p.age = data[5]\n",
    "#                 p.gender = data[6]\n",
    "#                 p.race = data[7]\n",
    "#                 p.city = data[8]\n",
    "#                 p.state = data[9]\n",
    "#                 p.signsOfMentalIllness = data[10]\n",
    "#                 p.threatLevel = data[11]\n",
    "#                 p.flee = data[12]\n",
    "#                 p.bodyCamera = data[13]\n",
    "#                 p.armsCategory = data[14]\n",
    "#                 dataBase.append((data[0], p))\n",
    "#             else:\n",
    "#                 dataBaseTittle = data\n",
    "#                 firstLine = False\n",
    "#         file.close()\n",
    "#         showMessage('Data Loaded with success')\n",
    "#         dataForRetur.append(dataBase)\n",
    "#         dataForRetur.append(dataBaseTittle)\n",
    "#         return dataForRetur\n",
    "\n",
    "#     except:\n",
    "#         showMessageError('Error returned')\n",
    "\n",
    "loadFile('adjusted_dataset.csv')"
   ]
  },
  {
   "cell_type": "code",
   "execution_count": null,
   "id": "e602ebdb",
   "metadata": {},
   "outputs": [],
   "source": []
  }
 ],
 "metadata": {
  "kernelspec": {
   "display_name": "Python 3 (ipykernel)",
   "language": "python",
   "name": "python3"
  },
  "language_info": {
   "codemirror_mode": {
    "name": "ipython",
    "version": 3
   },
   "file_extension": ".py",
   "mimetype": "text/x-python",
   "name": "python",
   "nbconvert_exporter": "python",
   "pygments_lexer": "ipython3",
   "version": "3.9.13"
  }
 },
 "nbformat": 4,
 "nbformat_minor": 5
}
